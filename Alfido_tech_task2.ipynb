{
  "nbformat": 4,
  "nbformat_minor": 0,
  "metadata": {
    "colab": {
      "provenance": [],
      "authorship_tag": "ABX9TyPCBiyLyc3/6b8o/t5IaeN8",
      "include_colab_link": true
    },
    "kernelspec": {
      "name": "python3",
      "display_name": "Python 3"
    },
    "language_info": {
      "name": "python"
    }
  },
  "cells": [
    {
      "cell_type": "markdown",
      "metadata": {
        "id": "view-in-github",
        "colab_type": "text"
      },
      "source": [
        "<a href=\"https://colab.research.google.com/github/Infernomerc/Alfido-tech/blob/main/Alfido_tech_task2.ipynb\" target=\"_parent\"><img src=\"https://colab.research.google.com/assets/colab-badge.svg\" alt=\"Open In Colab\"/></a>"
      ]
    },
    {
      "cell_type": "code",
      "execution_count": null,
      "metadata": {
        "colab": {
          "base_uri": "https://localhost:8080/"
        },
        "id": "h2UkyEpFURr1",
        "outputId": "252480b7-f9bb-49ef-b9b7-d9de05576fed"
      },
      "outputs": [
        {
          "output_type": "stream",
          "name": "stderr",
          "text": [
            "<ipython-input-1-c675d41ee6b2>:18: FutureWarning: A value is trying to be set on a copy of a DataFrame or Series through chained assignment using an inplace method.\n",
            "The behavior will change in pandas 3.0. This inplace method will never work because the intermediate object on which we are setting values always behaves as a copy.\n",
            "\n",
            "For example, when doing 'df[col].method(value, inplace=True)', try using 'df.method({col: value}, inplace=True)' or df[col] = df[col].method(value) instead, to perform the operation inplace on the original object.\n",
            "\n",
            "\n",
            "  loan_data['Gender'].fillna(loan_data['Gender'].mode()[0], inplace=True)\n",
            "<ipython-input-1-c675d41ee6b2>:19: FutureWarning: A value is trying to be set on a copy of a DataFrame or Series through chained assignment using an inplace method.\n",
            "The behavior will change in pandas 3.0. This inplace method will never work because the intermediate object on which we are setting values always behaves as a copy.\n",
            "\n",
            "For example, when doing 'df[col].method(value, inplace=True)', try using 'df.method({col: value}, inplace=True)' or df[col] = df[col].method(value) instead, to perform the operation inplace on the original object.\n",
            "\n",
            "\n",
            "  loan_data['Married'].fillna(loan_data['Married'].mode()[0], inplace=True)\n",
            "<ipython-input-1-c675d41ee6b2>:20: FutureWarning: A value is trying to be set on a copy of a DataFrame or Series through chained assignment using an inplace method.\n",
            "The behavior will change in pandas 3.0. This inplace method will never work because the intermediate object on which we are setting values always behaves as a copy.\n",
            "\n",
            "For example, when doing 'df[col].method(value, inplace=True)', try using 'df.method({col: value}, inplace=True)' or df[col] = df[col].method(value) instead, to perform the operation inplace on the original object.\n",
            "\n",
            "\n",
            "  loan_data['Dependents'].fillna(loan_data['Dependents'].mode()[0], inplace=True)\n",
            "<ipython-input-1-c675d41ee6b2>:21: FutureWarning: A value is trying to be set on a copy of a DataFrame or Series through chained assignment using an inplace method.\n",
            "The behavior will change in pandas 3.0. This inplace method will never work because the intermediate object on which we are setting values always behaves as a copy.\n",
            "\n",
            "For example, when doing 'df[col].method(value, inplace=True)', try using 'df.method({col: value}, inplace=True)' or df[col] = df[col].method(value) instead, to perform the operation inplace on the original object.\n",
            "\n",
            "\n",
            "  loan_data['Self_Employed'].fillna(loan_data['Self_Employed'].mode()[0], inplace=True)\n",
            "<ipython-input-1-c675d41ee6b2>:22: FutureWarning: A value is trying to be set on a copy of a DataFrame or Series through chained assignment using an inplace method.\n",
            "The behavior will change in pandas 3.0. This inplace method will never work because the intermediate object on which we are setting values always behaves as a copy.\n",
            "\n",
            "For example, when doing 'df[col].method(value, inplace=True)', try using 'df.method({col: value}, inplace=True)' or df[col] = df[col].method(value) instead, to perform the operation inplace on the original object.\n",
            "\n",
            "\n",
            "  loan_data['LoanAmount'].fillna(loan_data['LoanAmount'].median(), inplace=True)\n",
            "<ipython-input-1-c675d41ee6b2>:23: FutureWarning: A value is trying to be set on a copy of a DataFrame or Series through chained assignment using an inplace method.\n",
            "The behavior will change in pandas 3.0. This inplace method will never work because the intermediate object on which we are setting values always behaves as a copy.\n",
            "\n",
            "For example, when doing 'df[col].method(value, inplace=True)', try using 'df.method({col: value}, inplace=True)' or df[col] = df[col].method(value) instead, to perform the operation inplace on the original object.\n",
            "\n",
            "\n",
            "  loan_data['Loan_Amount_Term'].fillna(loan_data['Loan_Amount_Term'].median(), inplace=True)\n",
            "<ipython-input-1-c675d41ee6b2>:24: FutureWarning: A value is trying to be set on a copy of a DataFrame or Series through chained assignment using an inplace method.\n",
            "The behavior will change in pandas 3.0. This inplace method will never work because the intermediate object on which we are setting values always behaves as a copy.\n",
            "\n",
            "For example, when doing 'df[col].method(value, inplace=True)', try using 'df.method({col: value}, inplace=True)' or df[col] = df[col].method(value) instead, to perform the operation inplace on the original object.\n",
            "\n",
            "\n",
            "  loan_data['Credit_History'].fillna(loan_data['Credit_History'].mode()[0], inplace=True)\n"
          ]
        },
        {
          "output_type": "execute_result",
          "data": {
            "text/plain": [
              "(0.7804878048780488,\n",
              " 0.7572815533980582,\n",
              " 0.975,\n",
              " array([[18, 25],\n",
              "        [ 2, 78]]))"
            ]
          },
          "metadata": {},
          "execution_count": 1
        }
      ],
      "source": [
        "# Let's start by loading and inspecting the provided dataset to understand its structure.\n",
        "import pandas as pd\n",
        "\n",
        "# Load the dataset\n",
        "file_path = '/content/loan_prediction.csv'\n",
        "loan_data = pd.read_csv(file_path)\n",
        "\n",
        "# Display the first few rows of the dataset to understand its structure\n",
        "loan_data.head()\n",
        "# Handling missing values\n",
        "# For categorical columns, we'll fill missing values with the most frequent category.\n",
        "# For numerical columns, we'll fill missing values with the median of the column.\n",
        "\n",
        "# Checking for missing values\n",
        "loan_data.isnull().sum()\n",
        "\n",
        "# Filling missing values\n",
        "loan_data['Gender'].fillna(loan_data['Gender'].mode()[0], inplace=True)\n",
        "loan_data['Married'].fillna(loan_data['Married'].mode()[0], inplace=True)\n",
        "loan_data['Dependents'].fillna(loan_data['Dependents'].mode()[0], inplace=True)\n",
        "loan_data['Self_Employed'].fillna(loan_data['Self_Employed'].mode()[0], inplace=True)\n",
        "loan_data['LoanAmount'].fillna(loan_data['LoanAmount'].median(), inplace=True)\n",
        "loan_data['Loan_Amount_Term'].fillna(loan_data['Loan_Amount_Term'].median(), inplace=True)\n",
        "loan_data['Credit_History'].fillna(loan_data['Credit_History'].mode()[0], inplace=True)\n",
        "\n",
        "# Verify that no missing values remain\n",
        "loan_data.isnull().sum()\n",
        "from sklearn.model_selection import train_test_split\n",
        "from sklearn.preprocessing import LabelEncoder, StandardScaler\n",
        "\n",
        "# Encoding categorical variables\n",
        "# Loan_Status is our target variable, so we'll encode it first.\n",
        "le = LabelEncoder()\n",
        "loan_data['Loan_Status'] = le.fit_transform(loan_data['Loan_Status'])\n",
        "\n",
        "# Encoding the rest of the categorical variables\n",
        "loan_data = pd.get_dummies(loan_data, columns=['Gender', 'Married', 'Dependents',\n",
        "                                               'Education', 'Self_Employed', 'Property_Area'], drop_first=True)\n",
        "\n",
        "# Normalizing numerical features\n",
        "scaler = StandardScaler()\n",
        "loan_data[['ApplicantIncome', 'CoapplicantIncome', 'LoanAmount', 'Loan_Amount_Term']] = scaler.fit_transform(\n",
        "    loan_data[['ApplicantIncome', 'CoapplicantIncome', 'LoanAmount', 'Loan_Amount_Term']])\n",
        "\n",
        "# Dropping Loan_ID as it's not useful for prediction\n",
        "loan_data.drop('Loan_ID', axis=1, inplace=True)\n",
        "\n",
        "# Defining features (X) and target (y)\n",
        "X = loan_data.drop('Loan_Status', axis=1)\n",
        "y = loan_data['Loan_Status']\n",
        "\n",
        "# Splitting data into training and testing sets (80% training, 20% testing)\n",
        "X_train, X_test, y_train, y_test = train_test_split(X, y, test_size=0.2, random_state=42)\n",
        "\n",
        "# Verify the split\n",
        "X_train.shape, X_test.shape, y_train.shape, y_test.shape\n",
        "from sklearn.ensemble import RandomForestClassifier\n",
        "from sklearn.metrics import accuracy_score, precision_score, recall_score, confusion_matrix\n",
        "\n",
        "# Initialize the Random Forest Classifier\n",
        "rf_model = RandomForestClassifier(random_state=42)\n",
        "\n",
        "# Train the model\n",
        "rf_model.fit(X_train, y_train)\n",
        "\n",
        "# Predicting on the test set\n",
        "y_pred = rf_model.predict(X_test)\n",
        "\n",
        "# Evaluating the model\n",
        "accuracy = accuracy_score(y_test, y_pred)\n",
        "precision = precision_score(y_test, y_pred)\n",
        "recall = recall_score(y_test, y_pred)\n",
        "conf_matrix = confusion_matrix(y_test, y_pred)\n",
        "\n",
        "accuracy, precision, recall, conf_matrix\n"
      ]
    }
  ]
}